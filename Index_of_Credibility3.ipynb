{
  "metadata": {
    "kernelspec": {
      "language": "python",
      "display_name": "Python 3",
      "name": "python3"
    },
    "language_info": {
      "name": "python",
      "version": "3.10.12",
      "mimetype": "text/x-python",
      "codemirror_mode": {
        "name": "ipython",
        "version": 3
      },
      "pygments_lexer": "ipython3",
      "nbconvert_exporter": "python",
      "file_extension": ".py"
    },
    "kaggle": {
      "accelerator": "gpu",
      "dataSources": [
        {
          "sourceId": 10607299,
          "sourceType": "datasetVersion",
          "datasetId": 6566330
        }
      ],
      "dockerImageVersionId": 30839,
      "isInternetEnabled": true,
      "language": "python",
      "sourceType": "notebook",
      "isGpuEnabled": true
    },
    "colab": {
      "name": "Index of Credibility3",
      "provenance": [],
      "include_colab_link": true
    }
  },
  "nbformat_minor": 0,
  "nbformat": 4,
  "cells": [
    {
      "cell_type": "markdown",
      "metadata": {
        "id": "view-in-github",
        "colab_type": "text"
      },
      "source": [
        "<a href=\"https://colab.research.google.com/github/jesthylace/index-of-credibility/blob/main/Index_of_Credibility3.ipynb\" target=\"_parent\"><img src=\"https://colab.research.google.com/assets/colab-badge.svg\" alt=\"Open In Colab\"/></a>"
      ]
    },
    {
      "source": [
        "# IMPORTANT: SOME KAGGLE DATA SOURCES ARE PRIVATE\n",
        "# RUN THIS CELL IN ORDER TO IMPORT YOUR KAGGLE DATA SOURCES.\n",
        "import kagglehub\n",
        "kagglehub.login()\n"
      ],
      "metadata": {
        "id": "LYvrT7JLd_dB"
      },
      "cell_type": "code",
      "outputs": [],
      "execution_count": null
    },
    {
      "source": [
        "# IMPORTANT: RUN THIS CELL IN ORDER TO IMPORT YOUR KAGGLE DATA SOURCES,\n",
        "# THEN FEEL FREE TO DELETE THIS CELL.\n",
        "# NOTE: THIS NOTEBOOK ENVIRONMENT DIFFERS FROM KAGGLE'S PYTHON\n",
        "# ENVIRONMENT SO THERE MAY BE MISSING LIBRARIES USED BY YOUR\n",
        "# NOTEBOOK.\n",
        "\n",
        "jesthyl_fake_news_politics_path = kagglehub.dataset_download('jesthyl/fake-news-politics')\n",
        "\n",
        "print('Data source import complete.')\n"
      ],
      "metadata": {
        "id": "375ZeMeFd_dC"
      },
      "cell_type": "code",
      "outputs": [],
      "execution_count": null
    },
    {
      "cell_type": "code",
      "source": [
        "# This Python 3 environment comes with many helpful analytics libraries installed\n",
        "# It is defined by the kaggle/python Docker image: https://github.com/kaggle/docker-python\n",
        "# For example, here's several helpful packages to load\n",
        "\n",
        "import numpy as np # linear algebra\n",
        "import pandas as pd # data processing, CSV file I/O (e.g. pd.read_csv)\n",
        "\n",
        "# Input data files are available in the read-only \"../input/\" directory\n",
        "# For example, running this (by clicking run or pressing Shift+Enter) will list all files under the input directory\n",
        "\n",
        "import os\n",
        "data_dir = \"/kaggle/input/fake-news-politics\"  # Правильный путь к данным\n",
        "\n",
        "train_path = os.path.join(data_dir, \"train.tsv\")\n",
        "valid_path = os.path.join(data_dir, \"valid.tsv\")\n",
        "test_path = os.path.join(data_dir, \"test.tsv\")\n",
        "print(os.path.exists(train_path))  # Должно вывести True\n",
        "print(os.path.exists(valid_path))\n",
        "print(os.path.exists(test_path))\n",
        "print(train_path)\n",
        "print(valid_path)\n",
        "print(test_path)\n",
        "\n",
        "# You can write up to 20GB to the current directory (/kaggle/working/) that gets preserved as output when you create a version using \"Save & Run All\"\n",
        "# You can also write temporary files to /kaggle/temp/, but they won't be saved outside of the current session"
      ],
      "metadata": {
        "_uuid": "8f2839f25d086af736a60e9eeb907d3b93b6e0e5",
        "_cell_guid": "b1076dfc-b9ad-4769-8c92-a6c4dae69d19",
        "trusted": true,
        "execution": {
          "iopub.status.busy": "2025-01-31T10:52:41.893032Z",
          "iopub.execute_input": "2025-01-31T10:52:41.893386Z",
          "iopub.status.idle": "2025-01-31T10:52:41.905386Z",
          "shell.execute_reply.started": "2025-01-31T10:52:41.893358Z",
          "shell.execute_reply": "2025-01-31T10:52:41.904681Z"
        },
        "id": "qeSE2YaSd_dC",
        "outputId": "51eb1a76-d510-438c-dfdd-5ecd7b42b17a"
      },
      "outputs": [
        {
          "name": "stdout",
          "text": "True\nTrue\nTrue\n/kaggle/input/fake-news-politics/train.tsv\n/kaggle/input/fake-news-politics/valid.tsv\n/kaggle/input/fake-news-politics/test.tsv\n",
          "output_type": "stream"
        }
      ],
      "execution_count": null
    },
    {
      "cell_type": "code",
      "source": [
        "import pandas as pd\n",
        "\n",
        "with open(train_path, \"r\", encoding=\"utf-8\") as f:\n",
        "    for _ in range(5):  # Первые 5 строк\n",
        "        print(f.readline())\n",
        "columns = [\"id\", \"label\", \"statement\", \"subject\", \"speaker\", \"job\", \"state\", \"party affiliation\", \"credit history\"]  # Укажите все столбцы\n",
        "df_train = pd.read_csv(train_path, sep=\"\\t\", encoding=\"utf-8\")\n",
        "df_valid = pd.read_csv(valid_path, sep=\"\\t\", encoding=\"utf-8\")\n",
        "df_test = pd.read_csv(test_path, sep=\"\\t\", encoding=\"utf-8\")\n",
        "# Выводим первые строки\n",
        "print(df_train.head())\n",
        "print(df_valid.head())\n",
        "print(df_test.head())\n"
      ],
      "metadata": {
        "trusted": true,
        "execution": {
          "iopub.status.busy": "2025-01-31T11:07:45.284336Z",
          "iopub.execute_input": "2025-01-31T11:07:45.284661Z",
          "iopub.status.idle": "2025-01-31T11:07:45.370384Z",
          "shell.execute_reply.started": "2025-01-31T11:07:45.284639Z",
          "shell.execute_reply": "2025-01-31T11:07:45.369602Z"
        },
        "id": "MgKOXikvd_dD",
        "outputId": "c1fbd82b-1eab-4bd2-eee0-db3f6cf9e502"
      },
      "outputs": [
        {
          "name": "stdout",
          "text": "2635.json\tfalse\tSays the Annies List political group supports third-trimester abortions on demand.\tabortion\tdwayne-bohac\tState representative\tTexas\trepublican\t0\t1\t0\t0\t0\ta mailer\n\n10540.json\thalf-true\tWhen did the decline of coal start? It started when natural gas took off that started to begin in (President George W.) Bushs administration.\tenergy,history,job-accomplishments\tscott-surovell\tState delegate\tVirginia\tdemocrat\t0\t0\t1\t1\t0\ta floor speech.\n\n324.json\tmostly-true\tHillary Clinton agrees with John McCain \"by voting to give George Bush the benefit of the doubt on Iran.\"\tforeign-policy\tbarack-obama\tPresident\tIllinois\tdemocrat\t70\t71\t160\t163\t9\tDenver\n\n1123.json\tfalse\tHealth care reform legislation is likely to mandate free sex change surgeries.\thealth-care\tblog-posting\t\t\tnone\t7\t19\t3\t5\t44\ta news release\n\n9028.json\thalf-true\tThe economic turnaround started at the end of my term.\teconomy,jobs\tcharlie-crist\t\tFlorida\tdemocrat\t15\t9\t20\t19\t2\tan interview on CNN\n\n    2635.json        false  \\\n0  10540.json    half-true   \n1    324.json  mostly-true   \n2   1123.json        false   \n3   9028.json    half-true   \n4  12465.json         true   \n\n  Says the Annies List political group supports third-trimester abortions on demand.  \\\n0  When did the decline of coal start? It started...                                   \n1  Hillary Clinton agrees with John McCain \"by vo...                                   \n2  Health care reform legislation is likely to ma...                                   \n3  The economic turnaround started at the end of ...                                   \n4  The Chicago Bears have had more starting quart...                                   \n\n                             abortion    dwayne-bohac  \\\n0  energy,history,job-accomplishments  scott-surovell   \n1                      foreign-policy    barack-obama   \n2                         health-care    blog-posting   \n3                        economy,jobs   charlie-crist   \n4                           education       robin-vos   \n\n         State representative      Texas  republican     0     1    0.1  \\\n0              State delegate   Virginia    democrat   0.0   0.0    1.0   \n1                   President   Illinois    democrat  70.0  71.0  160.0   \n2                         NaN        NaN        none   7.0  19.0    3.0   \n3                         NaN    Florida    democrat  15.0   9.0   20.0   \n4  Wisconsin Assembly speaker  Wisconsin  republican   0.0   3.0    2.0   \n\n     0.2   0.3                   a mailer  \n0    1.0   0.0            a floor speech.  \n1  163.0   9.0                     Denver  \n2    5.0  44.0             a news release  \n3   19.0   2.0        an interview on CNN  \n4    5.0   1.0  a an online opinion-piece  \n  12134.json barely-true We have less Americans working now than in the 70s.  \\\n0   238.json  pants-fire  When Obama was sworn into office, he DID NOT u...    \n1  7891.json       false  Says Having organizations parading as being so...    \n2  8169.json   half-true     Says nearly half of Oregons children are poor.    \n3   929.json   half-true  On attacks by Republicans that various program...    \n4  9416.json       false  Says when armed civilians stop mass shootings ...    \n\n                       economy,jobs   vicky-hartzler  \\\n0  obama-birth-certificate,religion      chain-email   \n1   campaign-finance,congress,taxes  earl-blumenauer   \n2                           poverty  jim-francesconi   \n3                  economy,stimulus     barack-obama   \n4                              guns       jim-rubens   \n\n                             U.S. Representative       Missouri  republican  \\\n0                                            NaN            NaN        none   \n1                            U.S. representative         Oregon    democrat   \n2  Member of the State Board of Higher Education         Oregon        none   \n3                                      President       Illinois    democrat   \n4                           Small business owner  New Hampshire  republican   \n\n    1   0  1.1  0.1  0.2                 an interview with ABC17 News  \n0  11  43    8    5  105                                          NaN  \n1   0   1    1    1    0                a U.S. Ways and Means hearing  \n2   0   1    1    1    0                           an opinion article  \n3  70  71  160  163    9                      interview with CBS News  \n4   1   1    0    1    0  in an interview at gun shop in Hudson, N.H.  \n   11972.json        true  \\\n0  11685.json       false   \n1  11096.json       false   \n2   5209.json   half-true   \n3   9524.json  pants-fire   \n4   5962.json        true   \n\n  Building a wall on the U.S.-Mexico border will take literally years.  \\\n0  Wisconsin is on pace to double the number of l...                     \n1  Says John McCain has done nothing to help the ...                     \n2  Suzanne Bonamici supports a plan that will cut...                     \n3  When asked by a reporter whether hes at the ce...                     \n4  Over the past five years the federal governmen...                     \n\n                                         immigration  \\\n0                                               jobs   \n1                    military,veterans,voting-record   \n2  medicare,message-machine-2012,campaign-adverti...   \n3  campaign-finance,legal-issues,campaign-adverti...   \n4                 federal-budget,pensions,retirement   \n\n                         rick-perry              Governor         Texas  \\\n0                 katrina-shankland  State representative     Wisconsin   \n1                      donald-trump       President-Elect      New York   \n2                     rob-cornilles            consultant        Oregon   \n3  state-democratic-party-wisconsin                   NaN     Wisconsin   \n4                   brendan-doherty                   NaN  Rhode Island   \n\n   republican  30  30.1  42  23  18               Radio interview  \n0    democrat   2     1   0   0   0             a news conference  \n1  republican  63   114  51  37  61  comments on ABC's This Week.  \n2  republican   1     1   3   1   1                  a radio show  \n3    democrat   5     7   2   2   7                   a web video  \n4  republican   1     2   1   1   0            a campaign website  \n",
          "output_type": "stream"
        }
      ],
      "execution_count": null
    },
    {
      "cell_type": "code",
      "source": [
        "df_train = pd.read_csv(train_path, sep=\"\\t\", encoding=\"utf-8\")\n",
        "print(\"Columns in dataset:\", df_train.columns)\n",
        "# Переименовываем столбцы для удобства\n",
        "train_df = train_df.rename(columns={\"Says the Annies List political group supports third-trimester abortions on demand.\": \"statement\", \"false\": \"label\"})\n",
        "valid_df = valid_df.rename(columns={\"We have less Americans working now than in the 70s.\": \"statement\", \"barely-true\": \"label\"})\n",
        "test_df = test_df.rename(columns={\"Building a wall on the U.S.-Mexico border will take literally years.\": \"statement\", \"true\": \"label\"})\n"
      ],
      "metadata": {
        "trusted": true,
        "execution": {
          "iopub.status.busy": "2025-01-31T11:28:05.506734Z",
          "iopub.execute_input": "2025-01-31T11:28:05.50711Z",
          "iopub.status.idle": "2025-01-31T11:28:05.553997Z",
          "shell.execute_reply.started": "2025-01-31T11:28:05.507081Z",
          "shell.execute_reply": "2025-01-31T11:28:05.553126Z"
        },
        "id": "b1qypSTKd_dE",
        "outputId": "61d81182-cf94-4d9a-a392-51b792fdf7c5"
      },
      "outputs": [
        {
          "name": "stdout",
          "text": "Columns in dataset: Index(['2635.json', 'false',\n       'Says the Annies List political group supports third-trimester abortions on demand.',\n       'abortion', 'dwayne-bohac', 'State representative', 'Texas',\n       'republican', '0', '1', '0.1', '0.2', '0.3', 'a mailer'],\n      dtype='object')\n",
          "output_type": "stream"
        }
      ],
      "execution_count": null
    },
    {
      "cell_type": "code",
      "source": [
        "import pandas as pd\n",
        "\n",
        "# Определяем названия столбцов\n",
        "columns = [\n",
        "    \"id\", \"label\", \"statement\", \"subject\", \"speaker\", \"job\", \"state\",\n",
        "    \"party affiliation\", \"credit history\", \"barely_true_count\",\n",
        "    \"false_count\", \"half_true_count\", \"mostly_true_count\", \"context\"\n",
        "]\n",
        "\n",
        "# Загружаем данные без заголовков\n",
        "df_train = pd.read_csv(train_path, sep=\"\\t\", encoding=\"utf-8\", header=None, names=columns)\n",
        "df_valid = pd.read_csv(valid_path, sep=\"\\t\", encoding=\"utf-8\", header=None, names=columns)\n",
        "df_test = pd.read_csv(test_path, sep=\"\\t\", encoding=\"utf-8\", header=None, names=columns)\n",
        "\n",
        "# Проверяем названия столбцов\n",
        "print(\"Train dataset columns:\", df_train.columns)\n",
        "\n",
        "# Выводим первые строки для проверки\n",
        "print(\"\\nTrain dataset head:\")\n",
        "print(df_train.head())\n",
        "\n",
        "# Преобразуем текстовые метки в числовые\n",
        "label_map = {\n",
        "    \"pants-fire\": 0,\n",
        "    \"false\": 1,\n",
        "    \"barely-true\": 2,\n",
        "    \"half-true\": 3,\n",
        "    \"mostly-true\": 4,\n",
        "    \"true\": 5\n",
        "}\n",
        "\n",
        "df_train[\"label\"] = df_train[\"label\"].map(label_map)\n",
        "df_valid[\"label\"] = df_valid[\"label\"].map(label_map)\n",
        "df_test[\"label\"] = df_test[\"label\"].map(label_map)\n",
        "\n",
        "# Проверяем результат\n",
        "print(\"Train dataset labels:\", df_train[\"label\"].unique())\n",
        "print(\"Validation dataset labels:\", df_valid[\"label\"].unique())\n",
        "print(\"Test dataset labels:\", df_test[\"label\"].unique())"
      ],
      "metadata": {
        "trusted": true,
        "execution": {
          "iopub.status.busy": "2025-01-31T11:41:45.856925Z",
          "iopub.execute_input": "2025-01-31T11:41:45.857264Z",
          "iopub.status.idle": "2025-01-31T11:41:45.925014Z",
          "shell.execute_reply.started": "2025-01-31T11:41:45.857197Z",
          "shell.execute_reply": "2025-01-31T11:41:45.924397Z"
        },
        "id": "TzzfHfIFd_dE",
        "outputId": "f485482b-de94-4455-e84f-f1d2ae9494ad"
      },
      "outputs": [
        {
          "name": "stdout",
          "text": "Train dataset columns: Index(['id', 'label', 'statement', 'subject', 'speaker', 'job', 'state',\n       'party affiliation', 'credit history', 'barely_true_count',\n       'false_count', 'half_true_count', 'mostly_true_count', 'context'],\n      dtype='object')\n\nTrain dataset head:\n           id        label                                          statement  \\\n0   2635.json        false  Says the Annies List political group supports ...   \n1  10540.json    half-true  When did the decline of coal start? It started...   \n2    324.json  mostly-true  Hillary Clinton agrees with John McCain \"by vo...   \n3   1123.json        false  Health care reform legislation is likely to ma...   \n4   9028.json    half-true  The economic turnaround started at the end of ...   \n\n                              subject         speaker                   job  \\\n0                            abortion    dwayne-bohac  State representative   \n1  energy,history,job-accomplishments  scott-surovell        State delegate   \n2                      foreign-policy    barack-obama             President   \n3                         health-care    blog-posting                   NaN   \n4                        economy,jobs   charlie-crist                   NaN   \n\n      state party affiliation  credit history  barely_true_count  false_count  \\\n0     Texas        republican             0.0                1.0          0.0   \n1  Virginia          democrat             0.0                0.0          1.0   \n2  Illinois          democrat            70.0               71.0        160.0   \n3       NaN              none             7.0               19.0          3.0   \n4   Florida          democrat            15.0                9.0         20.0   \n\n   half_true_count  mostly_true_count              context  \n0              0.0                0.0             a mailer  \n1              1.0                0.0      a floor speech.  \n2            163.0                9.0               Denver  \n3              5.0               44.0       a news release  \n4             19.0                2.0  an interview on CNN  \nTrain dataset labels: [1 3 4 5 2 0]\nValidation dataset labels: [2 0 1 3 5 4]\nTest dataset labels: [5 1 3 0 2 4]\n",
          "output_type": "stream"
        }
      ],
      "execution_count": null
    },
    {
      "cell_type": "code",
      "source": [
        "# Убираем возможные пропуски\n",
        "train_df.dropna(inplace=True)\n",
        "valid_df.dropna(inplace=True)\n",
        "test_df.dropna(inplace=True)\n",
        "\n",
        "# Смотрим на уникальные метки\n",
        "print(train_df[\"label\"].value_counts())"
      ],
      "metadata": {
        "trusted": true,
        "execution": {
          "iopub.status.busy": "2025-01-31T11:40:05.78738Z",
          "iopub.execute_input": "2025-01-31T11:40:05.787675Z",
          "iopub.status.idle": "2025-01-31T11:40:05.802925Z",
          "shell.execute_reply.started": "2025-01-31T11:40:05.787655Z",
          "shell.execute_reply": "2025-01-31T11:40:05.802048Z"
        },
        "id": "8CfXqJ1dd_dE",
        "outputId": "36a31703-0d86-450e-bc9c-19ab5a9094a2"
      },
      "outputs": [
        {
          "name": "stdout",
          "text": "label\nhalf-true      2114\nfalse          1994\nmostly-true    1962\ntrue           1676\nbarely-true    1654\npants-fire      839\nName: count, dtype: int64\n",
          "output_type": "stream"
        }
      ],
      "execution_count": null
    },
    {
      "cell_type": "markdown",
      "source": [],
      "metadata": {
        "id": "xAlr0hMVd_dE"
      }
    },
    {
      "cell_type": "code",
      "source": [
        "import torch\n",
        "\n",
        "print(\"GPU available:\", torch.cuda.is_available())\n",
        "print(\"Device count:\", torch.cuda.device_count())"
      ],
      "metadata": {
        "trusted": true,
        "execution": {
          "iopub.status.busy": "2025-01-31T11:40:14.617855Z",
          "iopub.execute_input": "2025-01-31T11:40:14.618131Z",
          "iopub.status.idle": "2025-01-31T11:40:14.623595Z",
          "shell.execute_reply.started": "2025-01-31T11:40:14.618112Z",
          "shell.execute_reply": "2025-01-31T11:40:14.622768Z"
        },
        "id": "1w395UYLd_dF",
        "outputId": "da72cd14-860a-4535-b9b5-da77ced10171"
      },
      "outputs": [
        {
          "name": "stdout",
          "text": "GPU available: True\nDevice count: 1\n",
          "output_type": "stream"
        }
      ],
      "execution_count": null
    },
    {
      "cell_type": "code",
      "source": [
        "import evaluate\n",
        "\n",
        "# Загружаем метрику accuracy\n",
        "accuracy_metric = evaluate.load(\"accuracy\")\n",
        "\n",
        "# Пример данных\n",
        "predictions = [0, 1, 2, 3]\n",
        "references = [0, 1, 2, 2]\n",
        "\n",
        "# Вычисляем точность\n",
        "result = accuracy_metric.compute(predictions=predictions, references=references)\n",
        "print(f\"Accuracy: {result['accuracy']}\")"
      ],
      "metadata": {
        "trusted": true,
        "execution": {
          "iopub.status.busy": "2025-01-31T11:40:22.398577Z",
          "iopub.execute_input": "2025-01-31T11:40:22.398847Z",
          "iopub.status.idle": "2025-01-31T11:40:22.8908Z",
          "shell.execute_reply.started": "2025-01-31T11:40:22.398828Z",
          "shell.execute_reply": "2025-01-31T11:40:22.890057Z"
        },
        "id": "bB_bxCDxd_dF",
        "outputId": "a58f73df-33b3-4302-ca93-21d8c8f411c1"
      },
      "outputs": [
        {
          "name": "stdout",
          "text": "Accuracy: 0.75\n",
          "output_type": "stream"
        }
      ],
      "execution_count": null
    },
    {
      "cell_type": "code",
      "source": [
        "import pandas as pd\n",
        "from transformers import AutoTokenizer, AutoModelForSequenceClassification, Trainer, TrainingArguments, DataCollatorWithPadding\n",
        "from datasets import Dataset\n",
        "import evaluate\n",
        "import numpy as np\n",
        "\n",
        "# Определяем названия столбцов\n",
        "columns = [\n",
        "    \"id\", \"label\", \"statement\", \"subject\", \"speaker\", \"job\", \"state\",\n",
        "    \"party affiliation\", \"credit history\", \"barely_true_count\",\n",
        "    \"false_count\", \"half_true_count\", \"mostly_true_count\", \"context\"\n",
        "]\n",
        "\n",
        "# Загружаем данные без заголовков\n",
        "df_train = pd.read_csv(train_path, sep=\"\\t\", encoding=\"utf-8\", header=None, names=columns)\n",
        "df_valid = pd.read_csv(valid_path, sep=\"\\t\", encoding=\"utf-8\", header=None, names=columns)\n",
        "df_test = pd.read_csv(test_path, sep=\"\\t\", encoding=\"utf-8\", header=None, names=columns)\n",
        "\n",
        "# Преобразуем текстовые метки в числовые\n",
        "label_map = {\n",
        "    \"pants-fire\": 0,\n",
        "    \"false\": 1,\n",
        "    \"barely-true\": 2,\n",
        "    \"half-true\": 3,\n",
        "    \"mostly-true\": 4,\n",
        "    \"true\": 5\n",
        "}\n",
        "df_train[\"label\"] = df_train[\"label\"].map(label_map)\n",
        "df_valid[\"label\"] = df_valid[\"label\"].map(label_map)\n",
        "df_test[\"label\"] = df_test[\"label\"].map(label_map)\n",
        "\n",
        "# Преобразуем DataFrame в объекты Dataset\n",
        "train_dataset = Dataset.from_pandas(df_train)\n",
        "valid_dataset = Dataset.from_pandas(df_valid)\n",
        "test_dataset = Dataset.from_pandas(df_test)\n",
        "\n",
        "# Загружаем токенизатор\n",
        "model_name = \"huawei-noah/TinyBERT_General_4L_312D\"\n",
        "tokenizer = AutoTokenizer.from_pretrained(model_name)\n",
        "\n",
        "# Функция для токенизации\n",
        "def tokenize_function(examples):\n",
        "    return tokenizer(\n",
        "        examples[\"statement\"],\n",
        "        padding=\"max_length\",\n",
        "        truncation=True,\n",
        "        max_length=128\n",
        "    )\n",
        "\n",
        "# Применяем токенизацию к датасетам\n",
        "train_dataset = train_dataset.map(tokenize_function, batched=True)\n",
        "valid_dataset = valid_dataset.map(tokenize_function, batched=True)\n",
        "test_dataset = test_dataset.map(tokenize_function, batched=True)\n",
        "\n",
        "# Удаляем ненужные столбцы\n",
        "train_dataset = train_dataset.remove_columns([\"statement\"])\n",
        "valid_dataset = valid_dataset.remove_columns([\"statement\"])\n",
        "test_dataset = test_dataset.remove_columns([\"statement\"])\n",
        "\n",
        "# Загружаем модель\n",
        "model = AutoModelForSequenceClassification.from_pretrained(model_name, num_labels=6)\n",
        "\n",
        "# Настройка параметров обучения\n",
        "training_args = TrainingArguments(\n",
        "    output_dir='./results',\n",
        "    evaluation_strategy=\"epoch\",\n",
        "    per_device_train_batch_size=16,\n",
        "    per_device_eval_batch_size=16,\n",
        "    gradient_accumulation_steps=1,\n",
        "    num_train_epochs=3,\n",
        "    weight_decay=0.01,\n",
        "    logging_dir='./logs',\n",
        "    logging_steps=10,\n",
        "    save_strategy=\"epoch\",\n",
        "    load_best_model_at_end=True,\n",
        "    fp16=True\n",
        ")\n",
        "\n",
        "# Загружаем метрику accuracy\n",
        "accuracy_metric = evaluate.load(\"accuracy\")\n",
        "\n",
        "# Определяем функцию для вычисления метрик\n",
        "def compute_metrics(eval_pred):\n",
        "    logits, labels = eval_pred\n",
        "    predictions = np.argmax(logits, axis=-1)\n",
        "    return accuracy_metric.compute(predictions=predictions, references=labels)\n",
        "\n",
        "# Определяем data collator\n",
        "data_collator = DataCollatorWithPadding(tokenizer=tokenizer)\n",
        "\n",
        "# Инициализируем Trainer\n",
        "trainer = Trainer(\n",
        "    model=model,\n",
        "    args=training_args,\n",
        "    train_dataset=train_dataset,\n",
        "    eval_dataset=valid_dataset,\n",
        "    tokenizer=tokenizer,\n",
        "    data_collator=data_collator,\n",
        "    compute_metrics=compute_metrics\n",
        ")\n",
        "\n",
        "# Обучение модели\n",
        "trainer.train()\n",
        "\n",
        "# Оценка модели\n",
        "test_results = trainer.evaluate(test_dataset)\n",
        "print(f\"Test results: {test_results}\")"
      ],
      "metadata": {
        "trusted": true,
        "execution": {
          "iopub.status.busy": "2025-01-31T12:03:25.794388Z",
          "iopub.execute_input": "2025-01-31T12:03:25.794754Z"
        },
        "id": "FFZgsSTTd_dG",
        "outputId": "13903c79-7e6f-48e4-cae8-4b6be24ec114",
        "colab": {
          "referenced_widgets": [
            "957a38c9f6654d3abd6f2e2d7ee50bb3",
            "54d879602c0b434bb1a57a4e2c0a5a38",
            "5cab89ecb27f4be0854e8e34b688b7e9"
          ]
        }
      },
      "outputs": [
        {
          "output_type": "display_data",
          "data": {
            "text/plain": "Map:   0%|          | 0/10240 [00:00<?, ? examples/s]",
            "application/vnd.jupyter.widget-view+json": {
              "version_major": 2,
              "version_minor": 0,
              "model_id": "957a38c9f6654d3abd6f2e2d7ee50bb3"
            }
          },
          "metadata": {}
        },
        {
          "output_type": "display_data",
          "data": {
            "text/plain": "Map:   0%|          | 0/1284 [00:00<?, ? examples/s]",
            "application/vnd.jupyter.widget-view+json": {
              "version_major": 2,
              "version_minor": 0,
              "model_id": "54d879602c0b434bb1a57a4e2c0a5a38"
            }
          },
          "metadata": {}
        },
        {
          "output_type": "display_data",
          "data": {
            "text/plain": "Map:   0%|          | 0/1267 [00:00<?, ? examples/s]",
            "application/vnd.jupyter.widget-view+json": {
              "version_major": 2,
              "version_minor": 0,
              "model_id": "5cab89ecb27f4be0854e8e34b688b7e9"
            }
          },
          "metadata": {}
        },
        {
          "name": "stderr",
          "text": "Some weights of BertForSequenceClassification were not initialized from the model checkpoint at huawei-noah/TinyBERT_General_4L_312D and are newly initialized: ['classifier.bias', 'classifier.weight']\nYou should probably TRAIN this model on a down-stream task to be able to use it for predictions and inference.\n/usr/local/lib/python3.10/dist-packages/transformers/training_args.py:1575: FutureWarning: `evaluation_strategy` is deprecated and will be removed in version 4.46 of 🤗 Transformers. Use `eval_strategy` instead\n  warnings.warn(\n<ipython-input-45-24d3817fd6da>:92: FutureWarning: `tokenizer` is deprecated and will be removed in version 5.0.0 for `Trainer.__init__`. Use `processing_class` instead.\n  trainer = Trainer(\n\u001b[34m\u001b[1mwandb\u001b[0m: \u001b[33mWARNING\u001b[0m The `run_name` is currently set to the same value as `TrainingArguments.output_dir`. If this was not intended, please specify a different run name by setting the `TrainingArguments.run_name` parameter.\n\u001b[34m\u001b[1mwandb\u001b[0m: Using wandb-core as the SDK backend.  Please refer to https://wandb.me/wandb-core for more information.\n",
          "output_type": "stream"
        },
        {
          "output_type": "display_data",
          "data": {
            "text/plain": "<IPython.core.display.Javascript object>",
            "application/javascript": "\n        window._wandbApiKey = new Promise((resolve, reject) => {\n            function loadScript(url) {\n            return new Promise(function(resolve, reject) {\n                let newScript = document.createElement(\"script\");\n                newScript.onerror = reject;\n                newScript.onload = resolve;\n                document.body.appendChild(newScript);\n                newScript.src = url;\n            });\n            }\n            loadScript(\"https://cdn.jsdelivr.net/npm/postmate/build/postmate.min.js\").then(() => {\n            const iframe = document.createElement('iframe')\n            iframe.style.cssText = \"width:0;height:0;border:none\"\n            document.body.appendChild(iframe)\n            const handshake = new Postmate({\n                container: iframe,\n                url: 'https://wandb.ai/authorize'\n            });\n            const timeout = setTimeout(() => reject(\"Couldn't auto authenticate\"), 5000)\n            handshake.then(function(child) {\n                child.on('authorize', data => {\n                    clearTimeout(timeout)\n                    resolve(data)\n                });\n            });\n            })\n        });\n    "
          },
          "metadata": {}
        }
      ],
      "execution_count": null
    }
  ]
}